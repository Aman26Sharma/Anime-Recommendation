{
 "cells": [
  {
   "cell_type": "markdown",
   "metadata": {},
   "source": [
    "# Content Based Recommendation System"
   ]
  },
  {
   "cell_type": "code",
   "execution_count": 1,
   "metadata": {},
   "outputs": [],
   "source": [
    "import pandas as pd\n",
    "import numpy as np\n",
    "import matplotlib.pyplot as plt\n",
    "import seaborn as sns"
   ]
  },
  {
   "cell_type": "code",
   "execution_count": 2,
   "metadata": {},
   "outputs": [],
   "source": [
    "# Data PreProcessing"
   ]
  },
  {
   "cell_type": "code",
   "execution_count": 3,
   "metadata": {},
   "outputs": [],
   "source": [
    "df_anime = pd.read_csv('anime.csv')\n",
    "df_rating = pd.read_csv('rating.csv')"
   ]
  },
  {
   "cell_type": "code",
   "execution_count": 4,
   "metadata": {},
   "outputs": [],
   "source": [
    "df_anime.drop(['rating','members'],axis=1,inplace=True)"
   ]
  },
  {
   "cell_type": "code",
   "execution_count": 5,
   "metadata": {},
   "outputs": [
    {
     "data": {
      "text/html": [
       "<div>\n",
       "<style scoped>\n",
       "    .dataframe tbody tr th:only-of-type {\n",
       "        vertical-align: middle;\n",
       "    }\n",
       "\n",
       "    .dataframe tbody tr th {\n",
       "        vertical-align: top;\n",
       "    }\n",
       "\n",
       "    .dataframe thead th {\n",
       "        text-align: right;\n",
       "    }\n",
       "</style>\n",
       "<table border=\"1\" class=\"dataframe\">\n",
       "  <thead>\n",
       "    <tr style=\"text-align: right;\">\n",
       "      <th></th>\n",
       "      <th>anime_id</th>\n",
       "      <th>name</th>\n",
       "      <th>genre</th>\n",
       "      <th>type</th>\n",
       "      <th>episodes</th>\n",
       "    </tr>\n",
       "  </thead>\n",
       "  <tbody>\n",
       "    <tr>\n",
       "      <th>0</th>\n",
       "      <td>32281</td>\n",
       "      <td>Kimi no Na wa.</td>\n",
       "      <td>Drama, Romance, School, Supernatural</td>\n",
       "      <td>Movie</td>\n",
       "      <td>1</td>\n",
       "    </tr>\n",
       "    <tr>\n",
       "      <th>1</th>\n",
       "      <td>5114</td>\n",
       "      <td>Fullmetal Alchemist: Brotherhood</td>\n",
       "      <td>Action, Adventure, Drama, Fantasy, Magic, Mili...</td>\n",
       "      <td>TV</td>\n",
       "      <td>64</td>\n",
       "    </tr>\n",
       "    <tr>\n",
       "      <th>2</th>\n",
       "      <td>28977</td>\n",
       "      <td>Gintama°</td>\n",
       "      <td>Action, Comedy, Historical, Parody, Samurai, S...</td>\n",
       "      <td>TV</td>\n",
       "      <td>51</td>\n",
       "    </tr>\n",
       "    <tr>\n",
       "      <th>3</th>\n",
       "      <td>9253</td>\n",
       "      <td>Steins;Gate</td>\n",
       "      <td>Sci-Fi, Thriller</td>\n",
       "      <td>TV</td>\n",
       "      <td>24</td>\n",
       "    </tr>\n",
       "    <tr>\n",
       "      <th>4</th>\n",
       "      <td>9969</td>\n",
       "      <td>Gintama&amp;#039;</td>\n",
       "      <td>Action, Comedy, Historical, Parody, Samurai, S...</td>\n",
       "      <td>TV</td>\n",
       "      <td>51</td>\n",
       "    </tr>\n",
       "  </tbody>\n",
       "</table>\n",
       "</div>"
      ],
      "text/plain": [
       "   anime_id                              name  \\\n",
       "0     32281                    Kimi no Na wa.   \n",
       "1      5114  Fullmetal Alchemist: Brotherhood   \n",
       "2     28977                          Gintama°   \n",
       "3      9253                       Steins;Gate   \n",
       "4      9969                     Gintama&#039;   \n",
       "\n",
       "                                               genre   type episodes  \n",
       "0               Drama, Romance, School, Supernatural  Movie        1  \n",
       "1  Action, Adventure, Drama, Fantasy, Magic, Mili...     TV       64  \n",
       "2  Action, Comedy, Historical, Parody, Samurai, S...     TV       51  \n",
       "3                                   Sci-Fi, Thriller     TV       24  \n",
       "4  Action, Comedy, Historical, Parody, Samurai, S...     TV       51  "
      ]
     },
     "execution_count": 5,
     "metadata": {},
     "output_type": "execute_result"
    }
   ],
   "source": [
    "df_anime.head()"
   ]
  },
  {
   "cell_type": "code",
   "execution_count": 6,
   "metadata": {},
   "outputs": [
    {
     "data": {
      "text/html": [
       "<div>\n",
       "<style scoped>\n",
       "    .dataframe tbody tr th:only-of-type {\n",
       "        vertical-align: middle;\n",
       "    }\n",
       "\n",
       "    .dataframe tbody tr th {\n",
       "        vertical-align: top;\n",
       "    }\n",
       "\n",
       "    .dataframe thead th {\n",
       "        text-align: right;\n",
       "    }\n",
       "</style>\n",
       "<table border=\"1\" class=\"dataframe\">\n",
       "  <thead>\n",
       "    <tr style=\"text-align: right;\">\n",
       "      <th></th>\n",
       "      <th>user_id</th>\n",
       "      <th>anime_id</th>\n",
       "      <th>rating</th>\n",
       "    </tr>\n",
       "  </thead>\n",
       "  <tbody>\n",
       "    <tr>\n",
       "      <th>0</th>\n",
       "      <td>1</td>\n",
       "      <td>20</td>\n",
       "      <td>-1</td>\n",
       "    </tr>\n",
       "    <tr>\n",
       "      <th>1</th>\n",
       "      <td>1</td>\n",
       "      <td>24</td>\n",
       "      <td>-1</td>\n",
       "    </tr>\n",
       "    <tr>\n",
       "      <th>2</th>\n",
       "      <td>1</td>\n",
       "      <td>79</td>\n",
       "      <td>-1</td>\n",
       "    </tr>\n",
       "    <tr>\n",
       "      <th>3</th>\n",
       "      <td>1</td>\n",
       "      <td>226</td>\n",
       "      <td>-1</td>\n",
       "    </tr>\n",
       "    <tr>\n",
       "      <th>4</th>\n",
       "      <td>1</td>\n",
       "      <td>241</td>\n",
       "      <td>-1</td>\n",
       "    </tr>\n",
       "  </tbody>\n",
       "</table>\n",
       "</div>"
      ],
      "text/plain": [
       "   user_id  anime_id  rating\n",
       "0        1        20      -1\n",
       "1        1        24      -1\n",
       "2        1        79      -1\n",
       "3        1       226      -1\n",
       "4        1       241      -1"
      ]
     },
     "execution_count": 6,
     "metadata": {},
     "output_type": "execute_result"
    }
   ],
   "source": [
    "df_rating.head()"
   ]
  },
  {
   "cell_type": "code",
   "execution_count": 7,
   "metadata": {},
   "outputs": [],
   "source": [
    "df = pd.merge(df_rating,df_anime,left_on='anime_id',right_on='anime_id',how='outer')"
   ]
  },
  {
   "cell_type": "code",
   "execution_count": 8,
   "metadata": {},
   "outputs": [
    {
     "data": {
      "text/html": [
       "<div>\n",
       "<style scoped>\n",
       "    .dataframe tbody tr th:only-of-type {\n",
       "        vertical-align: middle;\n",
       "    }\n",
       "\n",
       "    .dataframe tbody tr th {\n",
       "        vertical-align: top;\n",
       "    }\n",
       "\n",
       "    .dataframe thead th {\n",
       "        text-align: right;\n",
       "    }\n",
       "</style>\n",
       "<table border=\"1\" class=\"dataframe\">\n",
       "  <thead>\n",
       "    <tr style=\"text-align: right;\">\n",
       "      <th></th>\n",
       "      <th>user_id</th>\n",
       "      <th>anime_id</th>\n",
       "      <th>rating</th>\n",
       "      <th>name</th>\n",
       "      <th>genre</th>\n",
       "      <th>type</th>\n",
       "      <th>episodes</th>\n",
       "    </tr>\n",
       "  </thead>\n",
       "  <tbody>\n",
       "    <tr>\n",
       "      <th>0</th>\n",
       "      <td>1.0</td>\n",
       "      <td>20</td>\n",
       "      <td>-1.0</td>\n",
       "      <td>Naruto</td>\n",
       "      <td>Action, Comedy, Martial Arts, Shounen, Super P...</td>\n",
       "      <td>TV</td>\n",
       "      <td>220</td>\n",
       "    </tr>\n",
       "    <tr>\n",
       "      <th>1</th>\n",
       "      <td>3.0</td>\n",
       "      <td>20</td>\n",
       "      <td>8.0</td>\n",
       "      <td>Naruto</td>\n",
       "      <td>Action, Comedy, Martial Arts, Shounen, Super P...</td>\n",
       "      <td>TV</td>\n",
       "      <td>220</td>\n",
       "    </tr>\n",
       "    <tr>\n",
       "      <th>2</th>\n",
       "      <td>5.0</td>\n",
       "      <td>20</td>\n",
       "      <td>6.0</td>\n",
       "      <td>Naruto</td>\n",
       "      <td>Action, Comedy, Martial Arts, Shounen, Super P...</td>\n",
       "      <td>TV</td>\n",
       "      <td>220</td>\n",
       "    </tr>\n",
       "    <tr>\n",
       "      <th>3</th>\n",
       "      <td>6.0</td>\n",
       "      <td>20</td>\n",
       "      <td>-1.0</td>\n",
       "      <td>Naruto</td>\n",
       "      <td>Action, Comedy, Martial Arts, Shounen, Super P...</td>\n",
       "      <td>TV</td>\n",
       "      <td>220</td>\n",
       "    </tr>\n",
       "    <tr>\n",
       "      <th>4</th>\n",
       "      <td>10.0</td>\n",
       "      <td>20</td>\n",
       "      <td>-1.0</td>\n",
       "      <td>Naruto</td>\n",
       "      <td>Action, Comedy, Martial Arts, Shounen, Super P...</td>\n",
       "      <td>TV</td>\n",
       "      <td>220</td>\n",
       "    </tr>\n",
       "  </tbody>\n",
       "</table>\n",
       "</div>"
      ],
      "text/plain": [
       "   user_id  anime_id  rating    name  \\\n",
       "0      1.0        20    -1.0  Naruto   \n",
       "1      3.0        20     8.0  Naruto   \n",
       "2      5.0        20     6.0  Naruto   \n",
       "3      6.0        20    -1.0  Naruto   \n",
       "4     10.0        20    -1.0  Naruto   \n",
       "\n",
       "                                               genre type episodes  \n",
       "0  Action, Comedy, Martial Arts, Shounen, Super P...   TV      220  \n",
       "1  Action, Comedy, Martial Arts, Shounen, Super P...   TV      220  \n",
       "2  Action, Comedy, Martial Arts, Shounen, Super P...   TV      220  \n",
       "3  Action, Comedy, Martial Arts, Shounen, Super P...   TV      220  \n",
       "4  Action, Comedy, Martial Arts, Shounen, Super P...   TV      220  "
      ]
     },
     "execution_count": 8,
     "metadata": {},
     "output_type": "execute_result"
    }
   ],
   "source": [
    "df.head()"
   ]
  },
  {
   "cell_type": "code",
   "execution_count": 9,
   "metadata": {},
   "outputs": [],
   "source": [
    "# EDA"
   ]
  },
  {
   "cell_type": "code",
   "execution_count": 10,
   "metadata": {},
   "outputs": [
    {
     "data": {
      "text/plain": [
       "user_id     1097\n",
       "anime_id       0\n",
       "rating      1097\n",
       "name          10\n",
       "genre        150\n",
       "type          38\n",
       "episodes      10\n",
       "dtype: int64"
      ]
     },
     "execution_count": 10,
     "metadata": {},
     "output_type": "execute_result"
    }
   ],
   "source": [
    "df.isnull().sum()"
   ]
  },
  {
   "cell_type": "code",
   "execution_count": 11,
   "metadata": {
    "scrolled": true
   },
   "outputs": [],
   "source": [
    "df.dropna(inplace=True)"
   ]
  },
  {
   "cell_type": "code",
   "execution_count": 12,
   "metadata": {},
   "outputs": [
    {
     "data": {
      "text/html": [
       "<div>\n",
       "<style scoped>\n",
       "    .dataframe tbody tr th:only-of-type {\n",
       "        vertical-align: middle;\n",
       "    }\n",
       "\n",
       "    .dataframe tbody tr th {\n",
       "        vertical-align: top;\n",
       "    }\n",
       "\n",
       "    .dataframe thead th {\n",
       "        text-align: right;\n",
       "    }\n",
       "</style>\n",
       "<table border=\"1\" class=\"dataframe\">\n",
       "  <thead>\n",
       "    <tr style=\"text-align: right;\">\n",
       "      <th></th>\n",
       "      <th>user_id</th>\n",
       "      <th>anime_id</th>\n",
       "      <th>rating</th>\n",
       "      <th>name</th>\n",
       "      <th>genre</th>\n",
       "      <th>type</th>\n",
       "      <th>episodes</th>\n",
       "    </tr>\n",
       "  </thead>\n",
       "  <tbody>\n",
       "    <tr>\n",
       "      <th>0</th>\n",
       "      <td>1.0</td>\n",
       "      <td>20</td>\n",
       "      <td>-1.0</td>\n",
       "      <td>Naruto</td>\n",
       "      <td>Action, Comedy, Martial Arts, Shounen, Super P...</td>\n",
       "      <td>TV</td>\n",
       "      <td>220</td>\n",
       "    </tr>\n",
       "    <tr>\n",
       "      <th>1</th>\n",
       "      <td>3.0</td>\n",
       "      <td>20</td>\n",
       "      <td>8.0</td>\n",
       "      <td>Naruto</td>\n",
       "      <td>Action, Comedy, Martial Arts, Shounen, Super P...</td>\n",
       "      <td>TV</td>\n",
       "      <td>220</td>\n",
       "    </tr>\n",
       "    <tr>\n",
       "      <th>2</th>\n",
       "      <td>5.0</td>\n",
       "      <td>20</td>\n",
       "      <td>6.0</td>\n",
       "      <td>Naruto</td>\n",
       "      <td>Action, Comedy, Martial Arts, Shounen, Super P...</td>\n",
       "      <td>TV</td>\n",
       "      <td>220</td>\n",
       "    </tr>\n",
       "    <tr>\n",
       "      <th>3</th>\n",
       "      <td>6.0</td>\n",
       "      <td>20</td>\n",
       "      <td>-1.0</td>\n",
       "      <td>Naruto</td>\n",
       "      <td>Action, Comedy, Martial Arts, Shounen, Super P...</td>\n",
       "      <td>TV</td>\n",
       "      <td>220</td>\n",
       "    </tr>\n",
       "    <tr>\n",
       "      <th>4</th>\n",
       "      <td>10.0</td>\n",
       "      <td>20</td>\n",
       "      <td>-1.0</td>\n",
       "      <td>Naruto</td>\n",
       "      <td>Action, Comedy, Martial Arts, Shounen, Super P...</td>\n",
       "      <td>TV</td>\n",
       "      <td>220</td>\n",
       "    </tr>\n",
       "  </tbody>\n",
       "</table>\n",
       "</div>"
      ],
      "text/plain": [
       "   user_id  anime_id  rating    name  \\\n",
       "0      1.0        20    -1.0  Naruto   \n",
       "1      3.0        20     8.0  Naruto   \n",
       "2      5.0        20     6.0  Naruto   \n",
       "3      6.0        20    -1.0  Naruto   \n",
       "4     10.0        20    -1.0  Naruto   \n",
       "\n",
       "                                               genre type episodes  \n",
       "0  Action, Comedy, Martial Arts, Shounen, Super P...   TV      220  \n",
       "1  Action, Comedy, Martial Arts, Shounen, Super P...   TV      220  \n",
       "2  Action, Comedy, Martial Arts, Shounen, Super P...   TV      220  \n",
       "3  Action, Comedy, Martial Arts, Shounen, Super P...   TV      220  \n",
       "4  Action, Comedy, Martial Arts, Shounen, Super P...   TV      220  "
      ]
     },
     "execution_count": 12,
     "metadata": {},
     "output_type": "execute_result"
    }
   ],
   "source": [
    "df.head()"
   ]
  },
  {
   "cell_type": "code",
   "execution_count": 13,
   "metadata": {},
   "outputs": [],
   "source": [
    "# Top Anime Ratings"
   ]
  },
  {
   "cell_type": "code",
   "execution_count": 14,
   "metadata": {},
   "outputs": [
    {
     "data": {
      "text/plain": [
       "name\n",
       "STAR BEAT!: Hoshi no Kodou                                          10.000000\n",
       "Shiroi Zou                                                          10.000000\n",
       "Warui no wo Taose!! Salaryman Man                                   10.000000\n",
       "Choegang Top Plate                                                  10.000000\n",
       "Tang Lang Bu Chan                                                    9.000000\n",
       "Yakushiji Ryouko no Kaiki Jikenbo: Hamachou, Voice &amp; Fiction     9.000000\n",
       "Shiranpuri                                                           9.000000\n",
       "Doukyuusei                                                           9.000000\n",
       "Kimi no Na wa.                                                       8.297863\n",
       "Ginga Eiyuu Densetsu                                                 8.239203\n",
       "Name: rating, dtype: float64"
      ]
     },
     "execution_count": 14,
     "metadata": {},
     "output_type": "execute_result"
    }
   ],
   "source": [
    "df.groupby('name')['rating'].mean().sort_values(ascending=False).head(10)"
   ]
  },
  {
   "cell_type": "code",
   "execution_count": 15,
   "metadata": {},
   "outputs": [],
   "source": [
    "# No. of users"
   ]
  },
  {
   "cell_type": "code",
   "execution_count": 16,
   "metadata": {},
   "outputs": [],
   "source": [
    "ratings = pd.DataFrame(df.groupby('name')['rating'].mean())\n",
    "ratings['num of ratings'] = pd.DataFrame(df.groupby('name')['rating'].count())"
   ]
  },
  {
   "cell_type": "code",
   "execution_count": 17,
   "metadata": {},
   "outputs": [
    {
     "data": {
      "text/html": [
       "<div>\n",
       "<style scoped>\n",
       "    .dataframe tbody tr th:only-of-type {\n",
       "        vertical-align: middle;\n",
       "    }\n",
       "\n",
       "    .dataframe tbody tr th {\n",
       "        vertical-align: top;\n",
       "    }\n",
       "\n",
       "    .dataframe thead th {\n",
       "        text-align: right;\n",
       "    }\n",
       "</style>\n",
       "<table border=\"1\" class=\"dataframe\">\n",
       "  <thead>\n",
       "    <tr style=\"text-align: right;\">\n",
       "      <th></th>\n",
       "      <th>rating</th>\n",
       "      <th>num of ratings</th>\n",
       "    </tr>\n",
       "    <tr>\n",
       "      <th>name</th>\n",
       "      <th></th>\n",
       "      <th></th>\n",
       "    </tr>\n",
       "  </thead>\n",
       "  <tbody>\n",
       "    <tr>\n",
       "      <th>&amp;quot;0&amp;quot;</th>\n",
       "      <td>2.769231</td>\n",
       "      <td>26</td>\n",
       "    </tr>\n",
       "    <tr>\n",
       "      <th>&amp;quot;Aesop&amp;quot; no Ohanashi yori: Ushi to Kaeru, Yokubatta Inu</th>\n",
       "      <td>0.000000</td>\n",
       "      <td>2</td>\n",
       "    </tr>\n",
       "    <tr>\n",
       "      <th>&amp;quot;Bungaku Shoujo&amp;quot; Kyou no Oyatsu: Hatsukoi</th>\n",
       "      <td>5.774936</td>\n",
       "      <td>782</td>\n",
       "    </tr>\n",
       "    <tr>\n",
       "      <th>&amp;quot;Bungaku Shoujo&amp;quot; Memoire</th>\n",
       "      <td>6.155748</td>\n",
       "      <td>809</td>\n",
       "    </tr>\n",
       "    <tr>\n",
       "      <th>&amp;quot;Bungaku Shoujo&amp;quot; Movie</th>\n",
       "      <td>6.457980</td>\n",
       "      <td>1535</td>\n",
       "    </tr>\n",
       "    <tr>\n",
       "      <th>&amp;quot;Eiji&amp;quot;</th>\n",
       "      <td>5.000000</td>\n",
       "      <td>17</td>\n",
       "    </tr>\n",
       "    <tr>\n",
       "      <th>.hack//G.U. Returner</th>\n",
       "      <td>4.804110</td>\n",
       "      <td>730</td>\n",
       "    </tr>\n",
       "    <tr>\n",
       "      <th>.hack//G.U. Trilogy</th>\n",
       "      <td>5.347943</td>\n",
       "      <td>1118</td>\n",
       "    </tr>\n",
       "    <tr>\n",
       "      <th>.hack//G.U. Trilogy: Parody Mode</th>\n",
       "      <td>4.589235</td>\n",
       "      <td>353</td>\n",
       "    </tr>\n",
       "    <tr>\n",
       "      <th>.hack//Gift</th>\n",
       "      <td>4.675581</td>\n",
       "      <td>860</td>\n",
       "    </tr>\n",
       "    <tr>\n",
       "      <th>.hack//Intermezzo</th>\n",
       "      <td>5.037158</td>\n",
       "      <td>915</td>\n",
       "    </tr>\n",
       "    <tr>\n",
       "      <th>.hack//Liminality</th>\n",
       "      <td>5.012698</td>\n",
       "      <td>1260</td>\n",
       "    </tr>\n",
       "    <tr>\n",
       "      <th>.hack//Quantum</th>\n",
       "      <td>5.706742</td>\n",
       "      <td>1231</td>\n",
       "    </tr>\n",
       "    <tr>\n",
       "      <th>.hack//Quantum: Sore ike! Bokura no Chimuchimu-chan!!</th>\n",
       "      <td>3.975155</td>\n",
       "      <td>161</td>\n",
       "    </tr>\n",
       "    <tr>\n",
       "      <th>.hack//Roots</th>\n",
       "      <td>5.534696</td>\n",
       "      <td>2104</td>\n",
       "    </tr>\n",
       "    <tr>\n",
       "      <th>.hack//Sign</th>\n",
       "      <td>5.793088</td>\n",
       "      <td>4369</td>\n",
       "    </tr>\n",
       "    <tr>\n",
       "      <th>.hack//Tasogare no Udewa Densetsu</th>\n",
       "      <td>5.315746</td>\n",
       "      <td>2407</td>\n",
       "    </tr>\n",
       "    <tr>\n",
       "      <th>.hack//Tasogare no Udewa Densetsu: Offline de Aimashou</th>\n",
       "      <td>4.227818</td>\n",
       "      <td>417</td>\n",
       "    </tr>\n",
       "    <tr>\n",
       "      <th>.hack//The Movie: Sekai no Mukou ni</th>\n",
       "      <td>5.147982</td>\n",
       "      <td>446</td>\n",
       "    </tr>\n",
       "    <tr>\n",
       "      <th>.hack//Unison</th>\n",
       "      <td>5.120670</td>\n",
       "      <td>895</td>\n",
       "    </tr>\n",
       "  </tbody>\n",
       "</table>\n",
       "</div>"
      ],
      "text/plain": [
       "                                                      rating  num of ratings\n",
       "name                                                                        \n",
       "&quot;0&quot;                                       2.769231              26\n",
       "&quot;Aesop&quot; no Ohanashi yori: Ushi to Kae...  0.000000               2\n",
       "&quot;Bungaku Shoujo&quot; Kyou no Oyatsu: Hats...  5.774936             782\n",
       "&quot;Bungaku Shoujo&quot; Memoire                  6.155748             809\n",
       "&quot;Bungaku Shoujo&quot; Movie                    6.457980            1535\n",
       "&quot;Eiji&quot;                                    5.000000              17\n",
       ".hack//G.U. Returner                                4.804110             730\n",
       ".hack//G.U. Trilogy                                 5.347943            1118\n",
       ".hack//G.U. Trilogy: Parody Mode                    4.589235             353\n",
       ".hack//Gift                                         4.675581             860\n",
       ".hack//Intermezzo                                   5.037158             915\n",
       ".hack//Liminality                                   5.012698            1260\n",
       ".hack//Quantum                                      5.706742            1231\n",
       ".hack//Quantum: Sore ike! Bokura no Chimuchimu-...  3.975155             161\n",
       ".hack//Roots                                        5.534696            2104\n",
       ".hack//Sign                                         5.793088            4369\n",
       ".hack//Tasogare no Udewa Densetsu                   5.315746            2407\n",
       ".hack//Tasogare no Udewa Densetsu: Offline de A...  4.227818             417\n",
       ".hack//The Movie: Sekai no Mukou ni                 5.147982             446\n",
       ".hack//Unison                                       5.120670             895"
      ]
     },
     "execution_count": 17,
     "metadata": {},
     "output_type": "execute_result"
    }
   ],
   "source": [
    "ratings.head(20)"
   ]
  },
  {
   "cell_type": "code",
   "execution_count": 18,
   "metadata": {},
   "outputs": [
    {
     "data": {
      "text/plain": [
       "name\n",
       "Death Note                          39340\n",
       "Sword Art Online                    30583\n",
       "Shingeki no Kyojin                  29584\n",
       "Code Geass: Hangyaku no Lelouch     27718\n",
       "Elfen Lied                          27506\n",
       "Angel Beats!                        27183\n",
       "Naruto                              25925\n",
       "Fullmetal Alchemist                 25032\n",
       "Fullmetal Alchemist: Brotherhood    24574\n",
       "Toradora!                           24283\n",
       "Name: rating, dtype: int64"
      ]
     },
     "execution_count": 18,
     "metadata": {},
     "output_type": "execute_result"
    }
   ],
   "source": [
    "df.groupby('name')['rating'].count().sort_values(ascending=False).head(10)"
   ]
  },
  {
   "cell_type": "code",
   "execution_count": 19,
   "metadata": {},
   "outputs": [],
   "source": [
    "genre = pd.DataFrame(data=df_anime[['name','genre']])\n",
    "genre.set_index('name',inplace=True)"
   ]
  },
  {
   "cell_type": "code",
   "execution_count": 20,
   "metadata": {},
   "outputs": [
    {
     "data": {
      "text/html": [
       "<div>\n",
       "<style scoped>\n",
       "    .dataframe tbody tr th:only-of-type {\n",
       "        vertical-align: middle;\n",
       "    }\n",
       "\n",
       "    .dataframe tbody tr th {\n",
       "        vertical-align: top;\n",
       "    }\n",
       "\n",
       "    .dataframe thead th {\n",
       "        text-align: right;\n",
       "    }\n",
       "</style>\n",
       "<table border=\"1\" class=\"dataframe\">\n",
       "  <thead>\n",
       "    <tr style=\"text-align: right;\">\n",
       "      <th></th>\n",
       "      <th>genre</th>\n",
       "    </tr>\n",
       "    <tr>\n",
       "      <th>name</th>\n",
       "      <th></th>\n",
       "    </tr>\n",
       "  </thead>\n",
       "  <tbody>\n",
       "    <tr>\n",
       "      <th>Kimi no Na wa.</th>\n",
       "      <td>Drama, Romance, School, Supernatural</td>\n",
       "    </tr>\n",
       "    <tr>\n",
       "      <th>Fullmetal Alchemist: Brotherhood</th>\n",
       "      <td>Action, Adventure, Drama, Fantasy, Magic, Mili...</td>\n",
       "    </tr>\n",
       "    <tr>\n",
       "      <th>Gintama°</th>\n",
       "      <td>Action, Comedy, Historical, Parody, Samurai, S...</td>\n",
       "    </tr>\n",
       "    <tr>\n",
       "      <th>Steins;Gate</th>\n",
       "      <td>Sci-Fi, Thriller</td>\n",
       "    </tr>\n",
       "    <tr>\n",
       "      <th>Gintama&amp;#039;</th>\n",
       "      <td>Action, Comedy, Historical, Parody, Samurai, S...</td>\n",
       "    </tr>\n",
       "    <tr>\n",
       "      <th>Haikyuu!!: Karasuno Koukou VS Shiratorizawa Gakuen Koukou</th>\n",
       "      <td>Comedy, Drama, School, Shounen, Sports</td>\n",
       "    </tr>\n",
       "    <tr>\n",
       "      <th>Hunter x Hunter (2011)</th>\n",
       "      <td>Action, Adventure, Shounen, Super Power</td>\n",
       "    </tr>\n",
       "    <tr>\n",
       "      <th>Ginga Eiyuu Densetsu</th>\n",
       "      <td>Drama, Military, Sci-Fi, Space</td>\n",
       "    </tr>\n",
       "    <tr>\n",
       "      <th>Gintama Movie: Kanketsu-hen - Yorozuya yo Eien Nare</th>\n",
       "      <td>Action, Comedy, Historical, Parody, Samurai, S...</td>\n",
       "    </tr>\n",
       "    <tr>\n",
       "      <th>Gintama&amp;#039;: Enchousen</th>\n",
       "      <td>Action, Comedy, Historical, Parody, Samurai, S...</td>\n",
       "    </tr>\n",
       "  </tbody>\n",
       "</table>\n",
       "</div>"
      ],
      "text/plain": [
       "                                                                                                genre\n",
       "name                                                                                                 \n",
       "Kimi no Na wa.                                                   Drama, Romance, School, Supernatural\n",
       "Fullmetal Alchemist: Brotherhood                    Action, Adventure, Drama, Fantasy, Magic, Mili...\n",
       "Gintama°                                            Action, Comedy, Historical, Parody, Samurai, S...\n",
       "Steins;Gate                                                                          Sci-Fi, Thriller\n",
       "Gintama&#039;                                       Action, Comedy, Historical, Parody, Samurai, S...\n",
       "Haikyuu!!: Karasuno Koukou VS Shiratorizawa Gak...             Comedy, Drama, School, Shounen, Sports\n",
       "Hunter x Hunter (2011)                                        Action, Adventure, Shounen, Super Power\n",
       "Ginga Eiyuu Densetsu                                                   Drama, Military, Sci-Fi, Space\n",
       "Gintama Movie: Kanketsu-hen - Yorozuya yo Eien ...  Action, Comedy, Historical, Parody, Samurai, S...\n",
       "Gintama&#039;: Enchousen                            Action, Comedy, Historical, Parody, Samurai, S..."
      ]
     },
     "execution_count": 20,
     "metadata": {},
     "output_type": "execute_result"
    }
   ],
   "source": [
    "genre.head(10)"
   ]
  },
  {
   "cell_type": "code",
   "execution_count": 21,
   "metadata": {},
   "outputs": [],
   "source": [
    "genre.dropna(inplace=True)"
   ]
  },
  {
   "cell_type": "code",
   "execution_count": 22,
   "metadata": {},
   "outputs": [],
   "source": [
    "# Training the recommendation system"
   ]
  },
  {
   "cell_type": "code",
   "execution_count": 23,
   "metadata": {},
   "outputs": [],
   "source": [
    "anime_name = list(df_anime.name)\n",
    "\n",
    "def fullname(partial):\n",
    "    return_list=[]\n",
    "    for name in anime_name:\n",
    "        a = partial.lower().split()\n",
    "        count = 0\n",
    "        for i in a:\n",
    "            if name.lower().find(i) > -1:\n",
    "                count = count+1\n",
    "        if count==len(a):\n",
    "            return_list.append(name)\n",
    "    if partial in return_list:\n",
    "        return partial\n",
    "    else:\n",
    "        return return_list[0]"
   ]
  },
  {
   "cell_type": "code",
   "execution_count": 24,
   "metadata": {},
   "outputs": [],
   "source": [
    "def get_recommendation(partial_name):\n",
    "    \n",
    "    name = fullname(partial_name)\n",
    "    anime_genre = genre.loc[name].values[0].split(', ')\n",
    "    \n",
    "    # Generating list of anime names with atleast one same genre\n",
    "    same_genre_name = []\n",
    "    for i in range(len(genre)):\n",
    "        for j in anime_genre:\n",
    "            if j in genre.values[i].tolist()[0].split(', '):\n",
    "                same_genre_name.append(genre.iloc[i].name)\n",
    "                break\n",
    "                \n",
    "    # Creating matrix based on generated list\n",
    "    animetable = df[df['name'].isin(same_genre_name)].pivot_table(index='user_id',columns='name',values='rating')\n",
    "    \n",
    "    # Creating Correlation table\n",
    "    anime_rating = animetable[name]\n",
    "    recomm = animetable.corrwith(anime_rating)\n",
    "    final = pd.DataFrame(recomm,columns=['Correlation'])\n",
    "    final = final.join(ratings['num of ratings'])\n",
    "    final.dropna(inplace=True)\n",
    "    final = final[(final.index==name) | (final['num of ratings']>8000)].sort_values('Correlation',ascending=False)\n",
    "    return final.head(11)"
   ]
  },
  {
   "cell_type": "code",
   "execution_count": 26,
   "metadata": {},
   "outputs": [
    {
     "name": "stderr",
     "output_type": "stream",
     "text": [
      "C:\\Anaconda3\\lib\\site-packages\\numpy\\lib\\function_base.py:2526: RuntimeWarning: Degrees of freedom <= 0 for slice\n",
      "  c = cov(x, y, rowvar)\n",
      "C:\\Anaconda3\\lib\\site-packages\\numpy\\lib\\function_base.py:2455: RuntimeWarning: divide by zero encountered in true_divide\n",
      "  c *= np.true_divide(1, fact)\n"
     ]
    },
    {
     "data": {
      "text/html": [
       "<div>\n",
       "<style scoped>\n",
       "    .dataframe tbody tr th:only-of-type {\n",
       "        vertical-align: middle;\n",
       "    }\n",
       "\n",
       "    .dataframe tbody tr th {\n",
       "        vertical-align: top;\n",
       "    }\n",
       "\n",
       "    .dataframe thead th {\n",
       "        text-align: right;\n",
       "    }\n",
       "</style>\n",
       "<table border=\"1\" class=\"dataframe\">\n",
       "  <thead>\n",
       "    <tr style=\"text-align: right;\">\n",
       "      <th></th>\n",
       "      <th>Correlation</th>\n",
       "      <th>num of ratings</th>\n",
       "    </tr>\n",
       "    <tr>\n",
       "      <th>name</th>\n",
       "      <th></th>\n",
       "      <th></th>\n",
       "    </tr>\n",
       "  </thead>\n",
       "  <tbody>\n",
       "    <tr>\n",
       "      <th>Monster</th>\n",
       "      <td>1.000000</td>\n",
       "      <td>4594</td>\n",
       "    </tr>\n",
       "    <tr>\n",
       "      <th>NHK ni Youkoso!</th>\n",
       "      <td>0.709339</td>\n",
       "      <td>10023</td>\n",
       "    </tr>\n",
       "    <tr>\n",
       "      <th>Cowboy Bebop</th>\n",
       "      <td>0.700840</td>\n",
       "      <td>15509</td>\n",
       "    </tr>\n",
       "    <tr>\n",
       "      <th>Clannad: After Story</th>\n",
       "      <td>0.696220</td>\n",
       "      <td>17854</td>\n",
       "    </tr>\n",
       "    <tr>\n",
       "      <th>Kokoro Connect</th>\n",
       "      <td>0.690214</td>\n",
       "      <td>9076</td>\n",
       "    </tr>\n",
       "    <tr>\n",
       "      <th>Black Lagoon: The Second Barrage</th>\n",
       "      <td>0.686720</td>\n",
       "      <td>9735</td>\n",
       "    </tr>\n",
       "    <tr>\n",
       "      <th>Suzumiya Haruhi no Shoushitsu</th>\n",
       "      <td>0.686500</td>\n",
       "      <td>9576</td>\n",
       "    </tr>\n",
       "    <tr>\n",
       "      <th>Baccano!</th>\n",
       "      <td>0.684462</td>\n",
       "      <td>11070</td>\n",
       "    </tr>\n",
       "    <tr>\n",
       "      <th>Chuunibyou demo Koi ga Shitai!</th>\n",
       "      <td>0.682976</td>\n",
       "      <td>13880</td>\n",
       "    </tr>\n",
       "    <tr>\n",
       "      <th>Fate/Zero 2nd Season</th>\n",
       "      <td>0.682536</td>\n",
       "      <td>12047</td>\n",
       "    </tr>\n",
       "    <tr>\n",
       "      <th>Great Teacher Onizuka</th>\n",
       "      <td>0.679321</td>\n",
       "      <td>9820</td>\n",
       "    </tr>\n",
       "  </tbody>\n",
       "</table>\n",
       "</div>"
      ],
      "text/plain": [
       "                                  Correlation  num of ratings\n",
       "name                                                         \n",
       "Monster                              1.000000            4594\n",
       "NHK ni Youkoso!                      0.709339           10023\n",
       "Cowboy Bebop                         0.700840           15509\n",
       "Clannad: After Story                 0.696220           17854\n",
       "Kokoro Connect                       0.690214            9076\n",
       "Black Lagoon: The Second Barrage     0.686720            9735\n",
       "Suzumiya Haruhi no Shoushitsu        0.686500            9576\n",
       "Baccano!                             0.684462           11070\n",
       "Chuunibyou demo Koi ga Shitai!       0.682976           13880\n",
       "Fate/Zero 2nd Season                 0.682536           12047\n",
       "Great Teacher Onizuka                0.679321            9820"
      ]
     },
     "execution_count": 26,
     "metadata": {},
     "output_type": "execute_result"
    }
   ],
   "source": [
    "a = get_recommendation('monster')\n"
   ]
  },
  {
   "cell_type": "code",
   "execution_count": 36,
   "metadata": {},
   "outputs": [],
   "source": [
    "import dill as pickle"
   ]
  },
  {
   "cell_type": "code",
   "execution_count": 50,
   "metadata": {},
   "outputs": [],
   "source": [
    "pickle_out = open(\"recomm.pkl\",\"wb\")\n",
    "pickle.dump_session(pickle_out)"
   ]
  },
  {
   "cell_type": "code",
   "execution_count": 51,
   "metadata": {},
   "outputs": [],
   "source": [
    "pickle_out.close()"
   ]
  },
  {
   "cell_type": "code",
   "execution_count": 47,
   "metadata": {},
   "outputs": [
    {
     "name": "stdout",
     "output_type": "stream",
     "text": [
      "['Monster', 'NHK ni Youkoso!', 'Cowboy Bebop', 'Clannad: After Story', 'Kokoro Connect', 'Black Lagoon: The Second Barrage', 'Suzumiya Haruhi no Shoushitsu', 'Baccano!', 'Chuunibyou demo Koi ga Shitai!', 'Fate/Zero 2nd Season', 'Great Teacher Onizuka']\n"
     ]
    }
   ],
   "source": [
    "print(list(a.index))"
   ]
  },
  {
   "cell_type": "code",
   "execution_count": null,
   "metadata": {},
   "outputs": [],
   "source": []
  },
  {
   "cell_type": "code",
   "execution_count": null,
   "metadata": {},
   "outputs": [],
   "source": []
  },
  {
   "cell_type": "code",
   "execution_count": null,
   "metadata": {},
   "outputs": [],
   "source": []
  },
  {
   "cell_type": "code",
   "execution_count": null,
   "metadata": {},
   "outputs": [],
   "source": []
  },
  {
   "cell_type": "code",
   "execution_count": null,
   "metadata": {},
   "outputs": [],
   "source": []
  },
  {
   "cell_type": "code",
   "execution_count": null,
   "metadata": {},
   "outputs": [],
   "source": []
  },
  {
   "cell_type": "code",
   "execution_count": null,
   "metadata": {},
   "outputs": [],
   "source": []
  },
  {
   "cell_type": "code",
   "execution_count": null,
   "metadata": {},
   "outputs": [],
   "source": []
  },
  {
   "cell_type": "code",
   "execution_count": null,
   "metadata": {},
   "outputs": [],
   "source": []
  },
  {
   "cell_type": "code",
   "execution_count": null,
   "metadata": {},
   "outputs": [],
   "source": []
  },
  {
   "cell_type": "code",
   "execution_count": null,
   "metadata": {},
   "outputs": [],
   "source": []
  },
  {
   "cell_type": "code",
   "execution_count": null,
   "metadata": {},
   "outputs": [],
   "source": []
  },
  {
   "cell_type": "code",
   "execution_count": null,
   "metadata": {},
   "outputs": [],
   "source": []
  },
  {
   "cell_type": "code",
   "execution_count": null,
   "metadata": {},
   "outputs": [],
   "source": []
  }
 ],
 "metadata": {
  "kernelspec": {
   "display_name": "Python 3",
   "language": "python",
   "name": "python3"
  },
  "language_info": {
   "codemirror_mode": {
    "name": "ipython",
    "version": 3
   },
   "file_extension": ".py",
   "mimetype": "text/x-python",
   "name": "python",
   "nbconvert_exporter": "python",
   "pygments_lexer": "ipython3",
   "version": "3.7.6"
  }
 },
 "nbformat": 4,
 "nbformat_minor": 4
}
